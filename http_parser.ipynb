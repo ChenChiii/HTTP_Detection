{
 "cells": [
  {
   "attachments": {},
   "cell_type": "markdown",
   "metadata": {},
   "source": [
    "# HTTP Parser\n",
    "HTTP Parser can parse HTTP requests from txt file and convert the data to csv format.  \n",
    "The dataset parsed by HTTP Parser is CSIC 2010 HTTP Dataset.  \n",
    "A HTTP request has relevant values in these attribute, such as 'method', 'url', 'protocol', 'userAgent', 'pragma', 'cacheControl', 'accept', 'acceptEncoding', 'acceptCharset', 'acceptLanguage', 'host', 'connection', 'contentLength', 'contentType', 'cookie', and 'payload'.  \n",
    "Normal and anomalous request will be labeled as 'norm' and 'anom' respectively."
   ]
  },
  {
   "cell_type": "code",
   "execution_count": 1,
   "metadata": {},
   "outputs": [],
   "source": [
    "import csv\n",
    "\n",
    "paths = ['normalTrafficTraining', 'normalTrafficTest', 'anomalousTrafficTest']\n",
    "\n",
    "for path in paths:\n",
    "    label = path[:4]\n",
    "    f = open(f'dataset/{path}.txt','r')\n",
    "    f_csv = open(f'dataset/{path}.csv','w', newline='')\n",
    "    writer = csv.writer(f_csv, quoting=csv.QUOTE_ALL)\n",
    "\n",
    "    header = ['method', 'url', 'protocol', 'userAgent', 'pragma', 'cacheControl', 'accept', 'acceptEncoding', 'acceptCharset', 'acceptLanguage', 'host', 'connection', 'contentLength', 'contentType', 'cookie', 'payload', 'label']\n",
    "    writer.writerow(header)\n",
    "    header_dict = {'User-Agent': 3, 'Pragma': 4, 'Cache-control': 5, 'Accept': 6, 'Accept-Encoding': 7, 'Accept-Charset': 8, 'Accept-Language': 9, 'Host': 10, 'Connection': 11, 'Content-Length': 12, 'Content-Type': 13, 'Cookie': 14}\n",
    "    \n",
    "    row = [None] * 17\n",
    "    row[16] = label\n",
    "    end_count = 0\n",
    "    is_first_line = True\n",
    "    while(end_count < 5):\n",
    "        line = f.readline().strip()\n",
    "        if (line == ''):\n",
    "            end_count += 1\n",
    "\n",
    "        if (line.startswith(\"GET\") or line.startswith(\"POST\")):\n",
    "            if (is_first_line):\n",
    "                is_first_line = False\n",
    "            else:\n",
    "                writer.writerow(row)\n",
    "                end_count = 0\n",
    "                row = [None] * 17\n",
    "                row[16] = label\n",
    "            list = line.split(\" \")\n",
    "            for i, v in enumerate(list, 0):\n",
    "                row[i] = v\n",
    "        else:\n",
    "            list = line.split(\": \")\n",
    "            if len(list) > 1:\n",
    "                row[header_dict[list[0]]] = list[1]\n",
    "            else:\n",
    "                if (line != ''):\n",
    "                    row[15] = line\n",
    "\n",
    "    writer.writerow(row)\n",
    "    f.close()\n",
    "    f_csv.close()"
   ]
  }
 ],
 "metadata": {
  "kernelspec": {
   "display_name": "Python 3",
   "language": "python",
   "name": "python3"
  },
  "language_info": {
   "codemirror_mode": {
    "name": "ipython",
    "version": 3
   },
   "file_extension": ".py",
   "mimetype": "text/x-python",
   "name": "python",
   "nbconvert_exporter": "python",
   "pygments_lexer": "ipython3",
   "version": "3.10.0"
  },
  "orig_nbformat": 4,
  "vscode": {
   "interpreter": {
    "hash": "369f2c481f4da34e4445cda3fffd2e751bd1c4d706f27375911949ba6bb62e1c"
   }
  }
 },
 "nbformat": 4,
 "nbformat_minor": 2
}
