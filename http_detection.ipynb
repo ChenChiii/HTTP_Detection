{
 "cells": [
  {
   "cell_type": "code",
   "execution_count": 2,
   "metadata": {},
   "outputs": [],
   "source": [
    "import numpy as np\n",
    "import pandas as pd\n",
    "from sklearn.model_selection import train_test_split\n",
    "from utils import evaluate_model\n",
    "import os\n",
    "from sklearn.ensemble import RandomForestClassifier\n",
    "\n",
    "# Number of CPUs for ensemble learning methods\n",
    "N_ENSEMBLE_CPUS = max(os.cpu_count()//2, 1)"
   ]
  },
  {
   "cell_type": "code",
   "execution_count": 3,
   "metadata": {},
   "outputs": [],
   "source": [
    "normal_traffic_dataset = pd.read_csv(\"./normalTrafficTraining.csv\")\n",
    "anomalous_traffic_dataset = pd.read_csv(\"./anomalousTrafficTest.csv\")\n",
    "# Preview the dataset\n",
    "traffic_dataset = pd.concat([normal_traffic_dataset, anomalous_traffic_dataset])"
   ]
  },
  {
   "cell_type": "code",
   "execution_count": 4,
   "metadata": {},
   "outputs": [
    {
     "name": "stdout",
     "output_type": "stream",
     "text": [
      "['protocol', 'userAgent', 'pragma', 'cacheControl', 'accept', 'acceptEncoding', 'acceptCharset', 'acceptLanguage', 'connection']\n"
     ]
    }
   ],
   "source": [
    "unique_columns = []\n",
    "for name, item in traffic_dataset.items():\n",
    "    if len(item.unique()) == 1:\n",
    "        unique_columns.append(name)\n",
    "print(unique_columns)"
   ]
  },
  {
   "cell_type": "code",
   "execution_count": 5,
   "metadata": {},
   "outputs": [
    {
     "name": "stdout",
     "output_type": "stream",
     "text": [
      "['GET' 'POST']\n",
      "['localhost:8080' 'localhost:9090']\n",
      "[nan 'application/x-www-form-urlencoded']\n",
      "['norm' 'anom']\n",
      "['method', 'host', 'contentType', 'label']\n"
     ]
    }
   ],
   "source": [
    "binary_columns = []\n",
    "for name, item in traffic_dataset.items():\n",
    "    if len(item.unique()) > 1 and len(item.unique()) < 5:\n",
    "        print(item.unique())\n",
    "        binary_columns.append(name)\n",
    "print(binary_columns)"
   ]
  },
  {
   "cell_type": "code",
   "execution_count": 6,
   "metadata": {},
   "outputs": [
    {
     "name": "stdout",
     "output_type": "stream",
     "text": [
      "['url', 'contentLength', 'cookie', 'payload']\n"
     ]
    }
   ],
   "source": [
    "multiple_columns = []\n",
    "for name, item in traffic_dataset.items():\n",
    "    if len(item.unique()) > 2:\n",
    "        multiple_columns.append(name)\n",
    "print(multiple_columns)"
   ]
  },
  {
   "cell_type": "code",
   "execution_count": 7,
   "metadata": {},
   "outputs": [],
   "source": [
    "feat_df = traffic_dataset[['method', 'host', 'contentType', 'contentLength', 'label']]\n",
    "feat_df = feat_df.replace({\"method\" : {\"GET\" : 0, \"POST\" : 1}})\n",
    "feat_df = feat_df.replace({\"host\" : {\"localhost:8080\" : 0, \"localhost:9090\" : 1}})\n",
    "feat_df = feat_df.replace({\"contentType\" : {\"application/x-www-form-urlencoded\" : 1}})\n",
    "feat_df = feat_df.replace({\"label\" : {\"norm\" : 0, \"anom\" : 1}})\n",
    "feat_df = feat_df.fillna(0)\n",
    "\n",
    "feat_all = feat_df.drop([\"label\"], axis=1).values\n",
    "y_all = feat_df[\"label\"]"
   ]
  },
  {
   "cell_type": "code",
   "execution_count": 8,
   "metadata": {},
   "outputs": [],
   "source": [
    "feat_train, feat_test, y_train, y_test = train_test_split(\n",
    "    feat_all, y_all, test_size=0.4, random_state=0\n",
    ")"
   ]
  },
  {
   "cell_type": "code",
   "execution_count": 9,
   "metadata": {},
   "outputs": [
    {
     "name": "stdout",
     "output_type": "stream",
     "text": [
      "[ Evaluation result for Random forest classifier (5 DTs) ]\n",
      "Classification report:\n",
      "              precision    recall  f1-score   support\n",
      "\n",
      "           0       0.67      0.94      0.78     14373\n",
      "           1       0.80      0.33      0.46      9895\n",
      "\n",
      "    accuracy                           0.69     24268\n",
      "   macro avg       0.74      0.64      0.62     24268\n",
      "weighted avg       0.72      0.69      0.65     24268\n",
      "\n",
      "Confusion matrix:\n",
      "[[13581   792]\n",
      " [ 6661  3234]] \n",
      "\n",
      "[ Evaluation result for Random forest classifier (40 DTs) ]\n",
      "Classification report:\n",
      "              precision    recall  f1-score   support\n",
      "\n",
      "           0       0.67      0.95      0.79     14373\n",
      "           1       0.81      0.32      0.46      9895\n",
      "\n",
      "    accuracy                           0.69     24268\n",
      "   macro avg       0.74      0.64      0.62     24268\n",
      "weighted avg       0.73      0.69      0.65     24268\n",
      "\n",
      "Confusion matrix:\n",
      "[[13648   725]\n",
      " [ 6716  3179]] \n",
      "\n",
      "[ Evaluation result for Random forest classifier (100 DTs) ]\n",
      "Classification report:\n",
      "              precision    recall  f1-score   support\n",
      "\n",
      "           0       0.67      0.95      0.79     14373\n",
      "           1       0.81      0.32      0.46      9895\n",
      "\n",
      "    accuracy                           0.69     24268\n",
      "   macro avg       0.74      0.64      0.62     24268\n",
      "weighted avg       0.73      0.69      0.65     24268\n",
      "\n",
      "Confusion matrix:\n",
      "[[13620   753]\n",
      " [ 6695  3200]] \n",
      "\n"
     ]
    }
   ],
   "source": [
    "rf_5_model = RandomForestClassifier(n_estimators=5, n_jobs=N_ENSEMBLE_CPUS)\n",
    "rf_5_model.fit(feat_train, y_train)\n",
    "\n",
    "rf_40_model = RandomForestClassifier(n_estimators=40, n_jobs=N_ENSEMBLE_CPUS)\n",
    "rf_40_model.fit(feat_train, y_train)\n",
    "\n",
    "rf_100_model = RandomForestClassifier(n_jobs=N_ENSEMBLE_CPUS)\n",
    "rf_100_model.fit(feat_train, y_train)\n",
    "\n",
    "evaluate_model(rf_5_model, \"Random forest classifier (5 DTs)\", feat_test, y_test)\n",
    "evaluate_model(rf_40_model, \"Random forest classifier (40 DTs)\", feat_test, y_test)\n",
    "evaluate_model(rf_100_model, \"Random forest classifier (100 DTs)\", feat_test, y_test)"
   ]
  },
  {
   "cell_type": "code",
   "execution_count": 10,
   "metadata": {},
   "outputs": [],
   "source": [
    "feat_filter = traffic_dataset[['method', 'host', 'contentType', 'contentLength', 'label']]\n",
    "feat_filter = feat_filter[feat_filter[\"method\"] == \"GET\"]\n",
    "feat_filter = feat_filter.replace({\"method\" : {\"GET\" : 0, \"POST\" : 1}})\n",
    "feat_filter = feat_filter.replace({\"host\" : {\"localhost:8080\" : 0, \"localhost:9090\" : 1}})\n",
    "feat_filter = feat_filter.replace({\"contentType\" : {\"application/x-www-form-urlencoded\" : 1}})\n",
    "feat_filter = feat_filter.replace({\"label\" : {\"norm\" : 0, \"anom\" : 1}})\n",
    "feat_filter = feat_filter.fillna(0)\n",
    "feat_all = feat_filter.drop([\"label\"], axis=1).values\n",
    "y_all = feat_filter[\"label\"]"
   ]
  },
  {
   "cell_type": "code",
   "execution_count": 11,
   "metadata": {},
   "outputs": [],
   "source": [
    "feat_train, feat_test, y_train, y_test = train_test_split(\n",
    "    feat_all, y_all, test_size=0.4, random_state=0\n",
    ")"
   ]
  },
  {
   "cell_type": "code",
   "execution_count": 12,
   "metadata": {},
   "outputs": [
    {
     "name": "stdout",
     "output_type": "stream",
     "text": [
      "[ Evaluation result for Random forest classifier (5 DTs) ]\n",
      "Classification report:\n",
      "              precision    recall  f1-score   support\n",
      "\n",
      "           0       0.66      1.00      0.79     11227\n",
      "           1       1.00      0.02      0.03      6009\n",
      "\n",
      "    accuracy                           0.66     17236\n",
      "   macro avg       0.83      0.51      0.41     17236\n",
      "weighted avg       0.78      0.66      0.53     17236\n",
      "\n",
      "Confusion matrix:\n",
      "[[11227     0]\n",
      " [ 5907   102]] \n",
      "\n",
      "[ Evaluation result for Random forest classifier (40 DTs) ]\n",
      "Classification report:\n",
      "              precision    recall  f1-score   support\n",
      "\n",
      "           0       0.66      1.00      0.79     11227\n",
      "           1       1.00      0.02      0.03      6009\n",
      "\n",
      "    accuracy                           0.66     17236\n",
      "   macro avg       0.83      0.51      0.41     17236\n",
      "weighted avg       0.78      0.66      0.53     17236\n",
      "\n",
      "Confusion matrix:\n",
      "[[11227     0]\n",
      " [ 5907   102]] \n",
      "\n",
      "[ Evaluation result for Random forest classifier (100 DTs) ]\n",
      "Classification report:\n",
      "              precision    recall  f1-score   support\n",
      "\n",
      "           0       0.66      1.00      0.79     11227\n",
      "           1       1.00      0.02      0.03      6009\n",
      "\n",
      "    accuracy                           0.66     17236\n",
      "   macro avg       0.83      0.51      0.41     17236\n",
      "weighted avg       0.78      0.66      0.53     17236\n",
      "\n",
      "Confusion matrix:\n",
      "[[11227     0]\n",
      " [ 5907   102]] \n",
      "\n"
     ]
    }
   ],
   "source": [
    "rf_5_model = RandomForestClassifier(n_estimators=5, n_jobs=N_ENSEMBLE_CPUS)\n",
    "rf_5_model.fit(feat_train, y_train)\n",
    "\n",
    "rf_40_model = RandomForestClassifier(n_estimators=40, n_jobs=N_ENSEMBLE_CPUS)\n",
    "rf_40_model.fit(feat_train, y_train)\n",
    "\n",
    "rf_100_model = RandomForestClassifier(n_jobs=N_ENSEMBLE_CPUS)\n",
    "rf_100_model.fit(feat_train, y_train)\n",
    "\n",
    "evaluate_model(rf_5_model, \"Random forest classifier (5 DTs)\", feat_test, y_test)\n",
    "evaluate_model(rf_40_model, \"Random forest classifier (40 DTs)\", feat_test, y_test)\n",
    "evaluate_model(rf_100_model, \"Random forest classifier (100 DTs)\", feat_test, y_test)"
   ]
  },
  {
   "cell_type": "code",
   "execution_count": 13,
   "metadata": {},
   "outputs": [],
   "source": [
    "feat_filter = traffic_dataset[['method', 'host', 'contentType', 'contentLength', 'label']]\n",
    "feat_filter = feat_filter[feat_filter[\"method\"] == \"POST\"]\n",
    "feat_filter = feat_filter.replace({\"method\" : {\"GET\" : 0, \"POST\" : 1}})\n",
    "feat_filter = feat_filter.replace({\"host\" : {\"localhost:8080\" : 0, \"localhost:9090\" : 1}})\n",
    "feat_filter = feat_filter.replace({\"contentType\" : {\"application/x-www-form-urlencoded\" : 1}})\n",
    "feat_filter = feat_filter.replace({\"label\" : {\"norm\" : 0, \"anom\" : 1}})\n",
    "feat_filter = feat_filter.fillna(0)\n",
    "feat_all = feat_filter.drop([\"label\"], axis=1).values\n",
    "y_all = feat_filter[\"label\"]"
   ]
  },
  {
   "cell_type": "code",
   "execution_count": 14,
   "metadata": {},
   "outputs": [],
   "source": [
    "feat_train, feat_test, y_train, y_test = train_test_split(\n",
    "    feat_all, y_all, test_size=0.4, random_state=0\n",
    ")"
   ]
  },
  {
   "cell_type": "code",
   "execution_count": 15,
   "metadata": {},
   "outputs": [
    {
     "name": "stdout",
     "output_type": "stream",
     "text": [
      "[ Evaluation result for Random forest classifier (5 DTs) ]\n",
      "Classification report:\n",
      "              precision    recall  f1-score   support\n",
      "\n",
      "           0       0.77      0.76      0.77      3186\n",
      "           1       0.81      0.81      0.81      3846\n",
      "\n",
      "    accuracy                           0.79      7032\n",
      "   macro avg       0.79      0.79      0.79      7032\n",
      "weighted avg       0.79      0.79      0.79      7032\n",
      "\n",
      "Confusion matrix:\n",
      "[[2436  750]\n",
      " [ 725 3121]] \n",
      "\n",
      "[ Evaluation result for Random forest classifier (40 DTs) ]\n",
      "Classification report:\n",
      "              precision    recall  f1-score   support\n",
      "\n",
      "           0       0.77      0.77      0.77      3186\n",
      "           1       0.81      0.81      0.81      3846\n",
      "\n",
      "    accuracy                           0.79      7032\n",
      "   macro avg       0.79      0.79      0.79      7032\n",
      "weighted avg       0.79      0.79      0.79      7032\n",
      "\n",
      "Confusion matrix:\n",
      "[[2456  730]\n",
      " [ 749 3097]] \n",
      "\n",
      "[ Evaluation result for Random forest classifier (100 DTs) ]\n",
      "Classification report:\n",
      "              precision    recall  f1-score   support\n",
      "\n",
      "           0       0.77      0.77      0.77      3186\n",
      "           1       0.81      0.81      0.81      3846\n",
      "\n",
      "    accuracy                           0.79      7032\n",
      "   macro avg       0.79      0.79      0.79      7032\n",
      "weighted avg       0.79      0.79      0.79      7032\n",
      "\n",
      "Confusion matrix:\n",
      "[[2440  746]\n",
      " [ 729 3117]] \n",
      "\n"
     ]
    }
   ],
   "source": [
    "rf_5_model = RandomForestClassifier(n_estimators=5, n_jobs=N_ENSEMBLE_CPUS)\n",
    "rf_5_model.fit(feat_train, y_train)\n",
    "\n",
    "rf_40_model = RandomForestClassifier(n_estimators=40, n_jobs=N_ENSEMBLE_CPUS)\n",
    "rf_40_model.fit(feat_train, y_train)\n",
    "\n",
    "rf_100_model = RandomForestClassifier(n_jobs=N_ENSEMBLE_CPUS)\n",
    "rf_100_model.fit(feat_train, y_train)\n",
    "\n",
    "evaluate_model(rf_5_model, \"Random forest classifier (5 DTs)\", feat_test, y_test)\n",
    "evaluate_model(rf_40_model, \"Random forest classifier (40 DTs)\", feat_test, y_test)\n",
    "evaluate_model(rf_100_model, \"Random forest classifier (100 DTs)\", feat_test, y_test)"
   ]
  },
  {
   "cell_type": "code",
   "execution_count": null,
   "metadata": {},
   "outputs": [],
   "source": []
  }
 ],
 "metadata": {
  "kernelspec": {
   "display_name": "Python 3 (ipykernel)",
   "language": "python",
   "name": "python3"
  },
  "language_info": {
   "codemirror_mode": {
    "name": "ipython",
    "version": 3
   },
   "file_extension": ".py",
   "mimetype": "text/x-python",
   "name": "python",
   "nbconvert_exporter": "python",
   "pygments_lexer": "ipython3",
   "version": "3.9.13"
  }
 },
 "nbformat": 4,
 "nbformat_minor": 2
}
