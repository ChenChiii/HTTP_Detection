{
  "cells": [
    {
      "cell_type": "markdown",
      "metadata": {
        "id": "nifiyUjLU_yK"
      },
      "source": [
        "# HTTP Detection\n",
        "HTTP Detection use machine learning to detect anomalous HTTP request.  \n",
        "Dataset: [CSIC 2010 HTTP Dataset](https://petescully.co.uk/research/csic-2010-http-dataset-in-csv-format-for-weka-analysis/)  \n",
        "In this code, we trained Three models, including random forest model, n-gram CNN model, and n-gram LSTM model."
      ]
    },
    {
      "cell_type": "code",
      "execution_count": 10,
      "metadata": {
        "id": "ar65_BQKU_yM"
      },
      "outputs": [],
      "source": [
        "import numpy as np\n",
        "import pandas as pd\n",
        "from sklearn.model_selection import train_test_split\n",
        "# from utils import evaluate_model\n",
        "import os\n",
        "from sklearn.ensemble import RandomForestClassifier\n",
        "\n",
        "# Number of CPUs for ensemble learning methods\n",
        "N_ENSEMBLE_CPUS = max(os.cpu_count()//2, 1)"
      ]
    },
    {
      "cell_type": "markdown",
      "metadata": {
        "id": "acrVMZNuU_yO"
      },
      "source": [
        "## Analysis HTTP Request Attributes\n",
        "We will first combine normal data and anomalous data.  \n",
        "Then we will analyze the value in HTTP requests.  \n",
        "We will find out those values that are same in every request, and these data will not be used to train our model.  "
      ]
    },
    {
      "cell_type": "code",
      "execution_count": 11,
      "metadata": {
        "id": "3JbttwS-U_yO"
      },
      "outputs": [],
      "source": [
        "normal_traffic_dataset = pd.read_csv(\"dataset/normalTrafficTraining.csv\")\n",
        "anomalous_traffic_dataset = pd.read_csv(\"dataset/anomalousTrafficTest.csv\")\n",
        "# Preview the dataset\n",
        "traffic_dataset = pd.concat([normal_traffic_dataset, anomalous_traffic_dataset])"
      ]
    },
    {
      "cell_type": "code",
      "execution_count": 12,
      "metadata": {
        "colab": {
          "base_uri": "https://localhost:8080/"
        },
        "id": "JNR3A2omU_yO",
        "outputId": "70a03cb0-dbca-4f66-9411-a6fc17b12846"
      },
      "outputs": [
        {
          "name": "stdout",
          "output_type": "stream",
          "text": [
            "same value columns:  ['protocol', 'userAgent', 'pragma', 'cacheControl', 'accept', 'acceptEncoding', 'acceptCharset', 'acceptLanguage', 'connection']\n"
          ]
        }
      ],
      "source": [
        "# The attribute that all have same value in every columns.\n",
        "same_value_columns = []\n",
        "for name, item in traffic_dataset.items():\n",
        "    if len(item.unique()) == 1:\n",
        "        same_value_columns.append(name)\n",
        "print(\"same value columns: \", same_value_columns)"
      ]
    },
    {
      "cell_type": "code",
      "execution_count": 13,
      "metadata": {
        "colab": {
          "base_uri": "https://localhost:8080/"
        },
        "id": "k_RpY4sIU_yP",
        "outputId": "d6a1742b-470a-4923-dd22-4692807abf61"
      },
      "outputs": [
        {
          "name": "stdout",
          "output_type": "stream",
          "text": [
            "value in binary column\n",
            "['GET' 'POST']\n",
            "['localhost:8080' 'localhost:9090']\n",
            "[nan 'application/x-www-form-urlencoded']\n",
            "['norm' 'anom']\n",
            "binary columns:  ['method', 'host', 'contentType', 'label']\n",
            "multiple columns:  ['url', 'contentLength', 'cookie', 'payload']\n"
          ]
        }
      ],
      "source": [
        "# The attribute that all have binary value.\n",
        "binary_columns = []\n",
        "print(\"value in binary column\")\n",
        "for name, item in traffic_dataset.items():\n",
        "    if len(item.unique()) == 2:\n",
        "        print(item.unique())\n",
        "        binary_columns.append(name)\n",
        "print(\"binary columns: \", binary_columns)\n",
        "\n",
        "# The attribute that have multiple value.\n",
        "multiple_columns = []\n",
        "for name, item in traffic_dataset.items():\n",
        "    if len(item.unique()) > 2:\n",
        "        multiple_columns.append(name)\n",
        "print(\"multiple columns: \", multiple_columns)"
      ]
    },
    {
      "cell_type": "markdown",
      "metadata": {
        "id": "NOUtf-kuU_yQ"
      },
      "source": [
        "## Random Forest Model\n",
        "We use three datasets to train the model\n",
        "- GET & POST\n",
        "- GET only\n",
        "- POST only\n",
        "\n",
        "For each of the dataset, we used them to train three models.  \n",
        "The number of decision trees in three models are 5, 40, and 100."
      ]
    },
    {
      "cell_type": "code",
      "execution_count": 14,
      "metadata": {
        "colab": {
          "base_uri": "https://localhost:8080/"
        },
        "id": "zc_v8AC0U_yQ",
        "outputId": "da55a2be-b991-4548-aaad-7c9a05b09669"
      },
      "outputs": [
        {
          "name": "stdout",
          "output_type": "stream",
          "text": [
            "[ Evaluation result for Random forest classifier using GET & POST (5 DTs) ]\n",
            "Classification report:\n",
            "              precision    recall  f1-score   support\n",
            "\n",
            "           0       0.67      0.95      0.79     14373\n",
            "           1       0.81      0.32      0.46      9895\n",
            "\n",
            "    accuracy                           0.69     24268\n",
            "   macro avg       0.74      0.64      0.62     24268\n",
            "weighted avg       0.73      0.69      0.65     24268\n",
            "\n",
            "Confusion matrix:\n",
            "[[13639   734]\n",
            " [ 6711  3184]] \n",
            "\n",
            "[ Evaluation result for Random forest classifier using GET & POST (40 DTs) ]\n",
            "Classification report:\n",
            "              precision    recall  f1-score   support\n",
            "\n",
            "           0       0.67      0.95      0.79     14373\n",
            "           1       0.81      0.32      0.46      9895\n",
            "\n",
            "    accuracy                           0.69     24268\n",
            "   macro avg       0.74      0.64      0.62     24268\n",
            "weighted avg       0.73      0.69      0.65     24268\n",
            "\n",
            "Confusion matrix:\n",
            "[[13632   741]\n",
            " [ 6710  3185]] \n",
            "\n",
            "[ Evaluation result for Random forest classifier using GET & POST (100 DTs) ]\n",
            "Classification report:\n",
            "              precision    recall  f1-score   support\n",
            "\n",
            "           0       0.67      0.95      0.78     14373\n",
            "           1       0.80      0.33      0.46      9895\n",
            "\n",
            "    accuracy                           0.69     24268\n",
            "   macro avg       0.74      0.64      0.62     24268\n",
            "weighted avg       0.73      0.69      0.65     24268\n",
            "\n",
            "Confusion matrix:\n",
            "[[13590   783]\n",
            " [ 6678  3217]] \n",
            "\n"
          ]
        }
      ],
      "source": [
        "feat_get_post = traffic_dataset[['method', 'host', 'contentType', 'contentLength', 'label']]\n",
        "feat_get_post = feat_get_post.replace({\"method\" : {\"GET\" : 0, \"POST\" : 1}})\n",
        "feat_get_post = feat_get_post.replace({\"host\" : {\"localhost:8080\" : 0, \"localhost:9090\" : 1}})\n",
        "feat_get_post = feat_get_post.replace({\"contentType\" : {\"application/x-www-form-urlencoded\" : 1}})\n",
        "feat_get_post = feat_get_post.replace({\"label\" : {\"norm\" : 0, \"anom\" : 1}})\n",
        "feat_get_post = feat_get_post.fillna(0)\n",
        "\n",
        "feat_all = feat_get_post.drop([\"label\"], axis=1).values\n",
        "y_all = feat_get_post[\"label\"]\n",
        "feat_train, feat_test, y_train, y_test = train_test_split(\n",
        "    feat_all, y_all, test_size=0.4, random_state=0\n",
        ")\n",
        "\n",
        "rf_5_model = RandomForestClassifier(n_estimators=5, n_jobs=N_ENSEMBLE_CPUS)\n",
        "rf_5_model.fit(feat_train, y_train)\n",
        "\n",
        "rf_40_model = RandomForestClassifier(n_estimators=40, n_jobs=N_ENSEMBLE_CPUS)\n",
        "rf_40_model.fit(feat_train, y_train)\n",
        "\n",
        "rf_100_model = RandomForestClassifier(n_jobs=N_ENSEMBLE_CPUS)\n",
        "rf_100_model.fit(feat_train, y_train)\n",
        "\n",
        "evaluate_model(rf_5_model, \"Random forest classifier using GET & POST (5 DTs)\", feat_test, y_test)\n",
        "evaluate_model(rf_40_model, \"Random forest classifier using GET & POST (40 DTs)\", feat_test, y_test)\n",
        "evaluate_model(rf_100_model, \"Random forest classifier using GET & POST (100 DTs)\", feat_test, y_test)"
      ]
    },
    {
      "cell_type": "code",
      "execution_count": 15,
      "metadata": {
        "colab": {
          "base_uri": "https://localhost:8080/"
        },
        "id": "OAMySk7zU_yQ",
        "outputId": "3aaebb14-88f1-4d12-9e1f-543cb1d1759c"
      },
      "outputs": [
        {
          "name": "stdout",
          "output_type": "stream",
          "text": [
            "[ Evaluation result for Random forest classifier using GET (5 DTs) ]\n",
            "Classification report:\n",
            "              precision    recall  f1-score   support\n",
            "\n",
            "           0       0.66      1.00      0.79     11227\n",
            "           1       1.00      0.02      0.03      6009\n",
            "\n",
            "    accuracy                           0.66     17236\n",
            "   macro avg       0.83      0.51      0.41     17236\n",
            "weighted avg       0.78      0.66      0.53     17236\n",
            "\n",
            "Confusion matrix:\n",
            "[[11227     0]\n",
            " [ 5907   102]] \n",
            "\n",
            "[ Evaluation result for Random forest classifier using GET (40 DTs) ]\n",
            "Classification report:\n",
            "              precision    recall  f1-score   support\n",
            "\n",
            "           0       0.66      1.00      0.79     11227\n",
            "           1       1.00      0.02      0.03      6009\n",
            "\n",
            "    accuracy                           0.66     17236\n",
            "   macro avg       0.83      0.51      0.41     17236\n",
            "weighted avg       0.78      0.66      0.53     17236\n",
            "\n",
            "Confusion matrix:\n",
            "[[11227     0]\n",
            " [ 5907   102]] \n",
            "\n",
            "[ Evaluation result for Random forest classifier using GET (100 DTs) ]\n",
            "Classification report:\n",
            "              precision    recall  f1-score   support\n",
            "\n",
            "           0       0.66      1.00      0.79     11227\n",
            "           1       1.00      0.02      0.03      6009\n",
            "\n",
            "    accuracy                           0.66     17236\n",
            "   macro avg       0.83      0.51      0.41     17236\n",
            "weighted avg       0.78      0.66      0.53     17236\n",
            "\n",
            "Confusion matrix:\n",
            "[[11227     0]\n",
            " [ 5907   102]] \n",
            "\n"
          ]
        }
      ],
      "source": [
        "feat_get = traffic_dataset[['method', 'host', 'contentType', 'contentLength', 'label']]\n",
        "feat_get = feat_get[feat_get[\"method\"] == \"GET\"]\n",
        "feat_get = feat_get.replace({\"method\" : {\"GET\" : 0, \"POST\" : 1}})\n",
        "feat_get = feat_get.replace({\"host\" : {\"localhost:8080\" : 0, \"localhost:9090\" : 1}})\n",
        "feat_get = feat_get.replace({\"contentType\" : {\"application/x-www-form-urlencoded\" : 1}})\n",
        "feat_get = feat_get.replace({\"label\" : {\"norm\" : 0, \"anom\" : 1}})\n",
        "feat_get = feat_get.fillna(0)\n",
        "\n",
        "feat_all = feat_get.drop([\"label\"], axis=1).values\n",
        "y_all = feat_get[\"label\"]\n",
        "feat_train, feat_test, y_train, y_test = train_test_split(\n",
        "    feat_all, y_all, test_size=0.4, random_state=0\n",
        ")\n",
        "\n",
        "rf_5_model = RandomForestClassifier(n_estimators=5, n_jobs=N_ENSEMBLE_CPUS)\n",
        "rf_5_model.fit(feat_train, y_train)\n",
        "\n",
        "rf_40_model = RandomForestClassifier(n_estimators=40, n_jobs=N_ENSEMBLE_CPUS)\n",
        "rf_40_model.fit(feat_train, y_train)\n",
        "\n",
        "rf_100_model = RandomForestClassifier(n_jobs=N_ENSEMBLE_CPUS)\n",
        "rf_100_model.fit(feat_train, y_train)\n",
        "\n",
        "evaluate_model(rf_5_model, \"Random forest classifier using GET (5 DTs)\", feat_test, y_test)\n",
        "evaluate_model(rf_40_model, \"Random forest classifier using GET (40 DTs)\", feat_test, y_test)\n",
        "evaluate_model(rf_100_model, \"Random forest classifier using GET (100 DTs)\", feat_test, y_test)"
      ]
    },
    {
      "cell_type": "code",
      "execution_count": 16,
      "metadata": {
        "colab": {
          "base_uri": "https://localhost:8080/"
        },
        "id": "jOeZ2zdVU_yR",
        "outputId": "a9f55a52-e377-48b0-85e3-65396266d64c"
      },
      "outputs": [
        {
          "name": "stdout",
          "output_type": "stream",
          "text": [
            "[ Evaluation result for Random forest classifier (5 DTs) ]\n",
            "Classification report:\n",
            "              precision    recall  f1-score   support\n",
            "\n",
            "           0       0.78      0.75      0.77      3186\n",
            "           1       0.80      0.82      0.81      3846\n",
            "\n",
            "    accuracy                           0.79      7032\n",
            "   macro avg       0.79      0.79      0.79      7032\n",
            "weighted avg       0.79      0.79      0.79      7032\n",
            "\n",
            "Confusion matrix:\n",
            "[[2402  784]\n",
            " [ 676 3170]] \n",
            "\n",
            "[ Evaluation result for Random forest classifier (40 DTs) ]\n",
            "Classification report:\n",
            "              precision    recall  f1-score   support\n",
            "\n",
            "           0       0.78      0.75      0.76      3186\n",
            "           1       0.80      0.82      0.81      3846\n",
            "\n",
            "    accuracy                           0.79      7032\n",
            "   macro avg       0.79      0.79      0.79      7032\n",
            "weighted avg       0.79      0.79      0.79      7032\n",
            "\n",
            "Confusion matrix:\n",
            "[[2400  786]\n",
            " [ 690 3156]] \n",
            "\n",
            "[ Evaluation result for Random forest classifier (100 DTs) ]\n",
            "Classification report:\n",
            "              precision    recall  f1-score   support\n",
            "\n",
            "           0       0.78      0.75      0.76      3186\n",
            "           1       0.80      0.83      0.81      3846\n",
            "\n",
            "    accuracy                           0.79      7032\n",
            "   macro avg       0.79      0.79      0.79      7032\n",
            "weighted avg       0.79      0.79      0.79      7032\n",
            "\n",
            "Confusion matrix:\n",
            "[[2381  805]\n",
            " [ 664 3182]] \n",
            "\n"
          ]
        }
      ],
      "source": [
        "feat_post = traffic_dataset[['method', 'host', 'contentType', 'contentLength', 'label']]\n",
        "feat_post = feat_post[feat_post[\"method\"] == \"POST\"]\n",
        "feat_post = feat_post.replace({\"method\" : {\"GET\" : 0, \"POST\" : 1}})\n",
        "feat_post = feat_post.replace({\"host\" : {\"localhost:8080\" : 0, \"localhost:9090\" : 1}})\n",
        "feat_post = feat_post.replace({\"contentType\" : {\"application/x-www-form-urlencoded\" : 1}})\n",
        "feat_post = feat_post.replace({\"label\" : {\"norm\" : 0, \"anom\" : 1}})\n",
        "feat_post = feat_post.fillna(0)\n",
        "\n",
        "feat_all = feat_post.drop([\"label\"], axis=1).values\n",
        "y_all = feat_post[\"label\"]\n",
        "feat_train, feat_test, y_train, y_test = train_test_split(\n",
        "    feat_all, y_all, test_size=0.4, random_state=0\n",
        ")\n",
        "rf_5_model = RandomForestClassifier(n_estimators=5, n_jobs=N_ENSEMBLE_CPUS)\n",
        "rf_5_model.fit(feat_train, y_train)\n",
        "\n",
        "rf_40_model = RandomForestClassifier(n_estimators=40, n_jobs=N_ENSEMBLE_CPUS)\n",
        "rf_40_model.fit(feat_train, y_train)\n",
        "\n",
        "rf_100_model = RandomForestClassifier(n_jobs=N_ENSEMBLE_CPUS)\n",
        "rf_100_model.fit(feat_train, y_train)\n",
        "\n",
        "evaluate_model(rf_5_model, \"Random forest classifier (5 DTs)\", feat_test, y_test)\n",
        "evaluate_model(rf_40_model, \"Random forest classifier (40 DTs)\", feat_test, y_test)\n",
        "evaluate_model(rf_100_model, \"Random forest classifier (100 DTs)\", feat_test, y_test)"
      ]
    },
    {
      "cell_type": "markdown",
      "metadata": {
        "id": "pus5VL96U_yS"
      },
      "source": [
        "## CNN Models"
      ]
    },
    {
      "cell_type": "code",
      "execution_count": 18,
      "metadata": {
        "colab": {
          "base_uri": "https://localhost:8080/"
        },
        "id": "e1dq24LcU_yS",
        "outputId": "34169c8c-d848-47ef-f78e-7320fb232c4f"
      },
      "outputs": [
        {
          "name": "stdout",
          "output_type": "stream",
          "text": [
            "                                                     url  label\n",
            "0                http://localhost:8080/tienda1/index.jsp      0\n",
            "1      http://localhost:8080/tienda1/publico/anadir.j...      0\n",
            "2       http://localhost:8080/tienda1/publico/anadir.jsp      0\n",
            "3      http://localhost:8080/tienda1/publico/autentic...      0\n",
            "4      http://localhost:8080/tienda1/publico/autentic...      0\n",
            "...                                                  ...    ...\n",
            "24663  http://localhost:8080/tienda1/miembros/editar....      1\n",
            "24664  http://localhost:8080/tienda1/miembros/editar.jsp      1\n",
            "24665  http://localhost:8080/tienda1/miembros/editar....      1\n",
            "24666      http://localhost:8080/tienda1/imagenes/3.gif/      1\n",
            "24667  http://localhost:8080/tienda1/imagenes/nuestra...      1\n",
            "\n",
            "[60668 rows x 2 columns]\n"
          ]
        }
      ],
      "source": [
        "# training attributes\n",
        "target = 'url'\n",
        "\n",
        "# whole dataset\n",
        "normal_traffic_dataset = pd.read_csv('dataset/normalTrafficTraining.csv', usecols=[target, 'label'])\n",
        "anomalous_traffic_dataset = pd.read_csv(\"dataset/anomalousTrafficTest.csv\", usecols=[target, 'label'])\n",
        "\n",
        "# GET or POST only\n",
        "# normal_traffic_dataset = pd.read_csv('dataset/normalTrafficTraining.csv', usecols=['method', target, 'label'])\n",
        "# anomalous_traffic_dataset = pd.read_csv(\"dataset/anomalousTrafficTest.csv\", usecols=['method', target, 'label'])\n",
        "# normal_target_dataset = normal_traffic_dataset.loc[normal_traffic_dataset['method'] == \"POST\", [target,'label']]\n",
        "# anomalous_target_dataset = anomalous_traffic_dataset.loc[anomalous_traffic_dataset['method'] == \"POST\", [target,'label']]\n",
        "\n",
        "normal_target_dataset = normal_traffic_dataset\n",
        "anomalous_target_dataset = anomalous_traffic_dataset\n",
        "\n",
        "normal_target_dataset['label'] = normal_target_dataset['label'].map({'norm': 0})\n",
        "anomalous_target_dataset['label'] = anomalous_target_dataset['label'].map({'anom': 1})\n",
        "\n",
        "# Preview the dataset\n",
        "traffic_dataset = pd.concat([normal_traffic_dataset, anomalous_traffic_dataset])\n",
        "print(traffic_dataset)"
      ]
    },
    {
      "cell_type": "markdown",
      "metadata": {
        "id": "VvN20W0xU_yS"
      },
      "source": [
        "The sample will be split into training (60%), validation (20%) and test (20%)."
      ]
    },
    {
      "cell_type": "code",
      "execution_count": 19,
      "metadata": {
        "id": "PhJRSqHYU_yS"
      },
      "outputs": [],
      "source": [
        "from sklearn.model_selection import train_test_split\n",
        "\n",
        "# Split URLs and labels into training, validation and test sets\n",
        "urls_tv, urls_test, labels_tv, labels_test = train_test_split(\n",
        "    traffic_dataset[target], traffic_dataset[\"label\"], test_size=0.2, random_state=12345\n",
        ")\n",
        "\n",
        "urls_train, urls_vali, labels_train, labels_vali = train_test_split(\n",
        "    urls_tv, labels_tv, test_size=0.25, random_state=12345\n",
        ")"
      ]
    },
    {
      "cell_type": "markdown",
      "metadata": {
        "id": "NvutfQmWU_yT"
      },
      "source": [
        "Build N-Gram Mappings"
      ]
    },
    {
      "cell_type": "code",
      "execution_count": 20,
      "metadata": {
        "id": "qipLvETBU_yT"
      },
      "outputs": [],
      "source": [
        "def iter_ngrams(text, n, start_symbol=\"\\x00\", end_symbol=\"\\x01\"):\n",
        "    \"\"\" Returns an iterable that yields all N-grams of the text with start and end padding. \"\"\"\n",
        "    padding_text = start_symbol * (n - 1) + text + end_symbol * n\n",
        "    result = []\n",
        "    for i in range(len(text) + n):\n",
        "        result.append(padding_text[i:i + n])\n",
        "    return result"
      ]
    },
    {
      "cell_type": "markdown",
      "metadata": {
        "id": "4XOu7OVIU_yT"
      },
      "source": [
        "Build a bidirectional mapping for all unique N-grams occurring in our dataset.  \n",
        "The function responsible for this step is the following build_ngram_mapping function, which takes a list of urls, n as in N-grams and a rare_threshold under which an N-gram will be marked as rare and discarded."
      ]
    },
    {
      "cell_type": "code",
      "execution_count": 21,
      "metadata": {
        "id": "i3nJiydTU_yT"
      },
      "outputs": [],
      "source": [
        "from tqdm import tqdm\n",
        "\n",
        "def build_ngram_mapping(urls, n, rare_threshold=2):\n",
        "    \"\"\" Build bidirectional N-gram to numerical index mapping, ignoring rare N-grams. \"\"\"\n",
        "    # N-gram occurrences count\n",
        "    ngram_count = {} #map\n",
        "    \n",
        "    print(\"Counting occurrences for unique N-grams...\", flush=True)\n",
        "    for url in tqdm(urls):\n",
        "        for ngram in iter_ngrams(url, n):\n",
        "            if ngram in ngram_count:\n",
        "                ngram_count[ngram] += 1\n",
        "            else:\n",
        "                ngram_count[ngram] = 1\n",
        "    \n",
        "    # N-gram to index mapping\n",
        "    n2i_mapping = {}\n",
        "    # Index to N-gram mapping\n",
        "    i2n_mapping = []\n",
        "    \n",
        "    # Total occurrence of all N-grams\n",
        "    n_occurrence = sum(ngram_count.values())\n",
        "    # Total occurrence of rare N-grams\n",
        "    n_occurrence_rare = 0\n",
        "    \n",
        "    print(\"Building bidirectional N-gram to numerical index mapping...\", flush=True)\n",
        "    for ngram, count in tqdm(ngram_count.items()):\n",
        "        if count >= rare_threshold:\n",
        "            n2i_mapping[ngram] = len(n2i_mapping)\n",
        "            i2n_mapping.append(ngram)\n",
        "        else:\n",
        "            n_occurrence_rare += 1\n",
        "    \n",
        "    # Rare occurrence percentage\n",
        "    rare_occurrence_pc = n_occurrence_rare/n_occurrence*100\n",
        "    \n",
        "    # Total number of unique N-grams\n",
        "    n_ngram = len(ngram_count)\n",
        "    # Total number of unique rare N-grams\n",
        "    n_ngram_rare = n_ngram-len(i2n_mapping)\n",
        "    # Rare unique N-grams percentage\n",
        "    rare_ngram_pc = n_ngram_rare/n_ngram*100\n",
        "    \n",
        "    # Print occurrence and unique N-grams metrics\n",
        "    print(f\"Total occurrence: {n_occurrence} ({n_occurrence_rare} rare, {rare_occurrence_pc:.2f}%)\")\n",
        "    print(f\"Unique N-grams: {n_ngram} ({n_ngram_rare} rare, {rare_ngram_pc:.2f}%)\")\n",
        "    \n",
        "    # Return bidirectional mappings\n",
        "    return n2i_mapping, i2n_mapping"
      ]
    },
    {
      "cell_type": "markdown",
      "metadata": {
        "id": "f4394SXbU_yT"
      },
      "source": [
        "Build co-occurrence matrix for all unique N-grams.  \n",
        "This is done by the build_occurrence_matrix below, which takes a list of urls, n as in N-grams, the n2i_mapping we have generated from the last step and a window_size parameter."
      ]
    },
    {
      "cell_type": "code",
      "execution_count": 22,
      "metadata": {
        "id": "YE_MBL5WU_yU"
      },
      "outputs": [],
      "source": [
        "import math\n",
        "\n",
        "from scipy.sparse import dok_matrix\n",
        "\n",
        "def build_cooccurrence_matrix(urls, n, n2i_mapping, window_size, report_interval=0.05):\n",
        "    \"\"\" Build co-occurrence matrix for character N-grams from URLs. \"\"\"\n",
        "    # Number of unique N-grams / index for unknown symbol\n",
        "    n_ngram = unknown_index = len(n2i_mapping)\n",
        "    # Co-occurrence matrix (DOK sparse matrix)\n",
        "    cooccurrence_matrix = dok_matrix((n_ngram+1, n_ngram+1))\n",
        "    \n",
        "    print(f\"Counting co-occurrence of N-grams (n = {n})...\", flush=True)\n",
        "    # Co-occurrence counting loop\n",
        "    for url in tqdm(urls):\n",
        "        # Previous neighboring N-gram indices for current URL\n",
        "        prev_ngram_indices = []\n",
        "        \n",
        "        for ngram in iter_ngrams(url, n):\n",
        "            ## [ TODO ]\n",
        "            # 1) Get index for current N-gram from mapping\n",
        "            #    (Hint: set `ngram_index` to `unknown_index` if it is not find in mapping)\n",
        "            ngram_index = n2i_mapping[ngram] if ngram in n2i_mapping else unknown_index\n",
        "            \n",
        "            # 2) Update co-occurrence matrix for previous neighboring N-grams in window\n",
        "            for prev_index in prev_ngram_indices:\n",
        "                cooccurrence_matrix[ngram_index, prev_index] += 1\n",
        "                cooccurrence_matrix[prev_index, ngram_index] += 1\n",
        "\n",
        "            # Add current N-gram index\n",
        "            prev_ngram_indices.append(ngram_index)\n",
        "            if len(prev_ngram_indices) > window_size:\n",
        "                prev_ngram_indices.pop(0)\n",
        "\n",
        "    print(\"Normalizing co-occurrence frequencies...\", flush=True)\n",
        "    # Sum of co-occurrence frequencies\n",
        "    co_sum = cooccurrence_matrix.sum(-1)\n",
        "    ## [ TODO ]\n",
        "    # 3) Normalize co-occurrence frequencies into distributions for each row\n",
        "    for i, j in tqdm(cooccurrence_matrix.keys()):\n",
        "        cooccurrence_matrix[i, j] /= co_sum[i]\n",
        "    \n",
        "    print(\"Completed.\")\n",
        "    # Return co-occurrence matrix\n",
        "    return cooccurrence_matrix"
      ]
    },
    {
      "cell_type": "markdown",
      "metadata": {
        "id": "35p54xIGU_yU"
      },
      "source": [
        "Build a co-occurrence matrix for all URLs"
      ]
    },
    {
      "cell_type": "code",
      "execution_count": 23,
      "metadata": {
        "colab": {
          "base_uri": "https://localhost:8080/"
        },
        "id": "gGm48D_SU_yU",
        "outputId": "afe011b6-52e6-45f5-e85d-13358982def7"
      },
      "outputs": [
        {
          "name": "stdout",
          "output_type": "stream",
          "text": [
            "Counting occurrences for unique N-grams...\n"
          ]
        },
        {
          "name": "stderr",
          "output_type": "stream",
          "text": [
            "100%|██████████| 36400/36400 [00:01<00:00, 32560.13it/s]"
          ]
        },
        {
          "name": "stdout",
          "output_type": "stream",
          "text": [
            "Building bidirectional N-gram to numerical index mapping...\n"
          ]
        },
        {
          "name": "stderr",
          "output_type": "stream",
          "text": [
            "\n",
            "100%|██████████| 89440/89440 [00:00<00:00, 1852161.04it/s]"
          ]
        },
        {
          "name": "stdout",
          "output_type": "stream",
          "text": [
            "Total occurrence: 3113334 (32399 rare, 1.04%)\n",
            "Unique N-grams: 89440 (32399 rare, 36.22%)\n",
            "Counting co-occurrence of N-grams (n = 4)...\n"
          ]
        },
        {
          "name": "stderr",
          "output_type": "stream",
          "text": [
            "\n",
            "100%|██████████| 36400/36400 [09:01<00:00, 67.24it/s]"
          ]
        },
        {
          "name": "stdout",
          "output_type": "stream",
          "text": [
            "Normalizing co-occurrence frequencies...\n"
          ]
        },
        {
          "name": "stderr",
          "output_type": "stream",
          "text": [
            "\n",
            "100%|██████████| 1570839/1570839 [00:51<00:00, 30628.28it/s]"
          ]
        },
        {
          "name": "stdout",
          "output_type": "stream",
          "text": [
            "Completed.\n",
            "<class 'scipy.sparse._dok.dok_matrix'> (57042, 57042)\n"
          ]
        },
        {
          "name": "stderr",
          "output_type": "stream",
          "text": [
            "\n"
          ]
        }
      ],
      "source": [
        "# N of N-grams\n",
        "N = 4\n",
        "\n",
        "# Build bidirectional N-gram mapping for all URLs\n",
        "n2i_urls, i2n_urls = build_ngram_mapping(urls_train, N)\n",
        "# Build co-occurrence matrix for character N-grams from URLs\n",
        "cooccurrence_urls = build_cooccurrence_matrix(\n",
        "    urls_train, N, n2i_mapping=n2i_urls, window_size=N\n",
        ")\n",
        "\n",
        "# Review co-occurrence matrix\n",
        "print(type(cooccurrence_urls), cooccurrence_urls.shape)"
      ]
    },
    {
      "cell_type": "markdown",
      "metadata": {
        "id": "Go1fuG-aU_yV"
      },
      "source": [
        "We will use the TruncatedSVD algorithm to reduce the dimensions of the co-occurrence matrix in order to create an embedding for every unique N-gram"
      ]
    },
    {
      "cell_type": "code",
      "execution_count": 24,
      "metadata": {
        "id": "G5NOL-U1U_yV"
      },
      "outputs": [],
      "source": [
        "from sklearn.decomposition import TruncatedSVD\n",
        "\n",
        "# Number of embedding dimensions\n",
        "EMBEDDING_DIMS_SVD = 120\n",
        "\n",
        "svd = TruncatedSVD(n_components=EMBEDDING_DIMS_SVD, n_iter=6, random_state=12345)\n",
        "embedding_svd = svd.fit_transform(cooccurrence_urls)"
      ]
    },
    {
      "cell_type": "markdown",
      "metadata": {
        "id": "J0jZWipiU_yV"
      },
      "source": [
        "### Training\n",
        "Build a neural network model for classification. The neural network below is again a Convolutional Neural Network, but it utilizes one-dimensional convolution and max pooling layers because our inputs are one-dimensional sequences rather than two-dimensional images. It also includes an embedding layer that accepts sequences of N-gram indices and outputs the look-up results of N-gram embedding vectors."
      ]
    },
    {
      "cell_type": "code",
      "execution_count": 25,
      "metadata": {
        "id": "0D4oFIuRU_yV"
      },
      "outputs": [],
      "source": [
        "from tensorflow.keras import Sequential, layers\n",
        "from tensorflow.keras.initializers import Constant\n",
        "\n",
        "def build_cnn_model(n_ngram, embedding_dims, padded_len, n, embedding_weights, dropout_ratio=0., optimizer=\"adam\"):\n",
        "    model = Sequential()\n",
        "    # 1) Embedding layer: (*, 100) -Embedding-> (*, 100, 10)\n",
        "    model.add(layers.Embedding(n_ngram + 1, embedding_weights.shape[1], input_length=padded_len+n, trainable=False, embeddings_initializer=Constant(embedding_weights))) \n",
        "    # 2) First convolution block: (*, 100, 10) -Conv1D+ReLU-> (*, 100, 20) -MaxPooling1D-> (*, 50, 20)\n",
        "    #    - Convolution layer: 20 channels, kernel size set to 5, ReLU activation, padded to maintain same shape\n",
        "    model.add(layers.Conv1D(20, 5, padding=\"same\", activation=\"relu\"))\n",
        "    #    - Max pooling layer: kernel size and stride set to 2\n",
        "    model.add(layers.MaxPooling1D(pool_size=2, strides=2))\n",
        "    # 3) Second convolution block: (*, 50, 20) -Conv1D+ReLU-> (*, 50, 40) -MaxPooling1D-> (*, 10, 40)\n",
        "    #    - Convolution layer: 40 channels, kernel size set to 5, ReLU activation, padded to maintain same shape\n",
        "    model.add(layers.Conv1D(40, 5, padding=\"same\", activation=\"relu\"))\n",
        "    #    - Max pooling layer: kernel size and stride set to 5\n",
        "    model.add(layers.MaxPooling1D(pool_size=5, strides=5))\n",
        "    # 4) Third convolution block: (*, 10, 40) -Conv1D+ReLU-> (*, 10, 80) -MaxPooling1D-> (*, 2, 80)\n",
        "    #    - Convolution layer: 80 channels, kernel size set to 5, ReLU activation, padded to maintain same shape\n",
        "    model.add(layers.Conv1D(80, 5, padding=\"same\", activation=\"relu\"))\n",
        "    #    - Max pooling layer: kernel size and stride set to 5\n",
        "    model.add(layers.MaxPooling1D(pool_size=5, strides=5))\n",
        "    # 5) Flatten layer: (*, 2, 80) -Flatten-> (*, 160)\n",
        "    model.add(layers.Flatten())\n",
        "    # 6) First fully-connected layer: (*, 160) -Dense+ReLU-> (*, 16)\n",
        "    #    - Dense layer: ReLU activation\n",
        "    model.add(layers.Dense(16, activation=\"relu\"))\n",
        "    # 7) Dropout layer: shape unchanged, dropout ratio set to `dropout_ratio`\n",
        "    model.add(layers.Dropout(dropout_ratio))\n",
        "    # 8) Last fully-connected layer: (*, 16) -Dense+Sigmoid-> (*, 1)\n",
        "    #    - Dense layer: Sigmoid activation\n",
        "    model.add(layers.Dense(1, activation=\"sigmoid\"))\n",
        "\n",
        "    # Compile the classification model\n",
        "    model.compile(loss=\"binary_crossentropy\", optimizer=optimizer, metrics=[\"accuracy\"])\n",
        "    \n",
        "    # Return the model\n",
        "    return model"
      ]
    },
    {
      "cell_type": "markdown",
      "metadata": {
        "id": "j05f8BWJU_yW"
      },
      "source": [
        "The neural network model takes sequences of N-gram indices rather than raw URLs as an input. Thus an extra function, transform_urls, is needed to perform conversion between the two formats"
      ]
    },
    {
      "cell_type": "code",
      "execution_count": 26,
      "metadata": {
        "id": "V4NIVG6MU_yW"
      },
      "outputs": [],
      "source": [
        "import numpy as np\n",
        "\n",
        "def transform_urls(batch_urls, padded_len, n, n2i_mapping, pad_symbol=\"\\x01\"):\n",
        "    # Batch size\n",
        "    batch_size = len(batch_urls)\n",
        "    # Batch input to the classification model\n",
        "    batch_input = np.empty((batch_size, padded_len+n), dtype=int)\n",
        "    \n",
        "    # Index for unknown symbol\n",
        "    unknown_index = len(n2i_mapping)\n",
        "    \n",
        "    for i, url in enumerate(batch_urls):\n",
        "        url += pad_symbol * (padded_len - len(url))\n",
        "        for j, ngram in enumerate(iter_ngrams(url, n)):\n",
        "            batch_input[i, j] = n2i_mapping[ngram] if ngram in n2i_mapping else unknown_index\n",
        "    \n",
        "    return batch_input"
      ]
    },
    {
      "cell_type": "markdown",
      "metadata": {
        "id": "m0JqaLl7U_yW"
      },
      "source": [
        "We would like Keras to call transform_urls for every batch of URLs during training. To achieve this, we will wrap our training and validation set in a SamplesWrapper, which implements the keras.utils.Sequence interface and automatically performs convertion of URLs whenever a new batch of samples is needed"
      ]
    },
    {
      "cell_type": "code",
      "execution_count": 27,
      "metadata": {
        "id": "_AL_buHXU_yW"
      },
      "outputs": [],
      "source": [
        "import math\n",
        "\n",
        "from tensorflow.keras.utils import Sequence\n",
        "\n",
        "class SamplesWrapper(Sequence):\n",
        "    \"\"\" Wrapper dataset that performs convertion of URLs on the fly. \"\"\"\n",
        "    def __init__(self, urls, labels, batch_size, padded_len, n, n2i_mapping):\n",
        "        ## URLs\n",
        "        self.urls = urls\n",
        "        ## Labels\n",
        "        self.labels = labels.values.astype(float)\n",
        "        ## Batch size\n",
        "        self.batch_size = batch_size\n",
        "        \n",
        "        ## Length of padded URL\n",
        "        self.padded_len = padded_len\n",
        "        ## N of N-gram\n",
        "        self.n = n\n",
        "        ## N-gram to index mapping\n",
        "        self.n2i_mapping = n2i_mapping\n",
        "    \n",
        "    def __len__(self):\n",
        "        return math.ceil(len(self.urls)/self.batch_size)\n",
        "    \n",
        "    def __getitem__(self, batch_idx):\n",
        "        # Start and end index of batch\n",
        "        batch_start = self.batch_size*batch_idx\n",
        "        batch_end = batch_start+self.batch_size\n",
        "        \n",
        "        # Get and transform batch of URLs\n",
        "        batch_urls = transform_urls(\n",
        "            self.urls[batch_start:batch_end],\n",
        "            self.padded_len,\n",
        "            self.n,\n",
        "            self.n2i_mapping\n",
        "        )\n",
        "        # Get batch of one-hot encoded labels\n",
        "        batch_labels = self.labels[batch_start:batch_end]\n",
        "        \n",
        "        return batch_urls, batch_labels"
      ]
    },
    {
      "cell_type": "code",
      "execution_count": 29,
      "metadata": {
        "colab": {
          "base_uri": "https://localhost:8080/"
        },
        "id": "JN_UhLpZU_yW",
        "outputId": "37fd960c-8ded-471b-a153-f5240fa30286"
      },
      "outputs": [
        {
          "name": "stdout",
          "output_type": "stream",
          "text": [
            "Model: \"sequential_1\"\n",
            "_________________________________________________________________\n",
            " Layer (type)                Output Shape              Param #   \n",
            "=================================================================\n",
            " embedding_1 (Embedding)     (None, 890, 120)          6845040   \n",
            "                                                                 \n",
            " conv1d_3 (Conv1D)           (None, 890, 20)           12020     \n",
            "                                                                 \n",
            " max_pooling1d_3 (MaxPooling  (None, 445, 20)          0         \n",
            " 1D)                                                             \n",
            "                                                                 \n",
            " conv1d_4 (Conv1D)           (None, 445, 40)           4040      \n",
            "                                                                 \n",
            " max_pooling1d_4 (MaxPooling  (None, 89, 40)           0         \n",
            " 1D)                                                             \n",
            "                                                                 \n",
            " conv1d_5 (Conv1D)           (None, 89, 80)            16080     \n",
            "                                                                 \n",
            " max_pooling1d_5 (MaxPooling  (None, 17, 80)           0         \n",
            " 1D)                                                             \n",
            "                                                                 \n",
            " flatten_1 (Flatten)         (None, 1360)              0         \n",
            "                                                                 \n",
            " dense_2 (Dense)             (None, 16)                21776     \n",
            "                                                                 \n",
            " dropout_1 (Dropout)         (None, 16)                0         \n",
            "                                                                 \n",
            " dense_3 (Dense)             (None, 1)                 17        \n",
            "                                                                 \n",
            "=================================================================\n",
            "Total params: 6,898,973\n",
            "Trainable params: 53,933\n",
            "Non-trainable params: 6,845,040\n",
            "_________________________________________________________________\n",
            "Epoch 1/10\n",
            "143/143 [==============================] - 32s 204ms/step - loss: 0.5797 - accuracy: 0.6695 - val_loss: 0.4636 - val_accuracy: 0.7205\n",
            "Epoch 2/10\n",
            "143/143 [==============================] - 26s 184ms/step - loss: 0.4097 - accuracy: 0.7785 - val_loss: 0.3641 - val_accuracy: 0.7987\n",
            "Epoch 3/10\n",
            "143/143 [==============================] - 24s 168ms/step - loss: 0.3498 - accuracy: 0.8109 - val_loss: 0.3253 - val_accuracy: 0.8117\n",
            "Epoch 4/10\n",
            "143/143 [==============================] - 27s 188ms/step - loss: 0.3176 - accuracy: 0.8293 - val_loss: 0.2985 - val_accuracy: 0.8214\n",
            "Epoch 5/10\n",
            "143/143 [==============================] - 28s 196ms/step - loss: 0.3008 - accuracy: 0.8340 - val_loss: 0.2909 - val_accuracy: 0.8343\n",
            "Epoch 6/10\n",
            "143/143 [==============================] - 24s 169ms/step - loss: 0.2880 - accuracy: 0.8368 - val_loss: 0.2836 - val_accuracy: 0.8329\n",
            "Epoch 7/10\n",
            "143/143 [==============================] - 22s 155ms/step - loss: 0.2828 - accuracy: 0.8351 - val_loss: 0.2835 - val_accuracy: 0.8357\n",
            "Epoch 8/10\n",
            "143/143 [==============================] - 25s 173ms/step - loss: 0.2735 - accuracy: 0.8419 - val_loss: 0.2700 - val_accuracy: 0.8388\n",
            "Epoch 9/10\n",
            "143/143 [==============================] - 25s 172ms/step - loss: 0.2706 - accuracy: 0.8408 - val_loss: 0.2696 - val_accuracy: 0.8379\n",
            "Epoch 10/10\n",
            "143/143 [==============================] - 23s 164ms/step - loss: 0.2625 - accuracy: 0.8454 - val_loss: 0.2628 - val_accuracy: 0.8386\n"
          ]
        }
      ],
      "source": [
        "# Batch size for training\n",
        "BATCH_SIZE = 256\n",
        "\n",
        "MAX_URL_LEN = traffic_dataset[target].str.len().max()\n",
        "\n",
        "# Build a CNN model\n",
        "cnn_model = build_cnn_model(\n",
        "    n_ngram=len(n2i_urls),\n",
        "    embedding_dims=EMBEDDING_DIMS_SVD,\n",
        "    padded_len=MAX_URL_LEN,\n",
        "    n=N,\n",
        "    embedding_weights=embedding_svd,\n",
        "    dropout_ratio=0.25\n",
        ")\n",
        "\n",
        "cnn_model.summary()\n",
        "\n",
        "# Wrapper for training samples\n",
        "wrapper_train = SamplesWrapper(\n",
        "    urls_train,\n",
        "    labels_train,\n",
        "    BATCH_SIZE,\n",
        "    padded_len=MAX_URL_LEN,\n",
        "    n=N,\n",
        "    n2i_mapping=n2i_urls\n",
        ")\n",
        "# Wrapper for validation samples\n",
        "wrapper_vali = SamplesWrapper(\n",
        "    urls_vali,\n",
        "    labels_vali,\n",
        "    BATCH_SIZE,\n",
        "    padded_len=MAX_URL_LEN,\n",
        "    n=N,\n",
        "    n2i_mapping=n2i_urls\n",
        ")\n",
        "\n",
        "# Train the basic model for 10 epochs\n",
        "cnn_history = cnn_model.fit(wrapper_train, validation_data=wrapper_vali, epochs=10)"
      ]
    },
    {
      "cell_type": "markdown",
      "metadata": {
        "id": "4MXqcS50U_yW"
      },
      "source": [
        "## Evaluation\n",
        "Plot the loss and accuracy of each epoch on both the training and the validation set"
      ]
    },
    {
      "cell_type": "code",
      "execution_count": 30,
      "metadata": {
        "colab": {
          "base_uri": "https://localhost:8080/",
          "height": 573
        },
        "id": "gO4uYFjzU_yX",
        "outputId": "665bc94e-0dd0-462a-ee5d-689d8458ef45"
      },
      "outputs": [
        {
          "data": {
            "image/png": "[encoded data removed]",
            "text/plain": [
              "<Figure size 432x288 with 1 Axes>"
            ]
          },
          "metadata": {
            "needs_background": "light"
          },
          "output_type": "display_data"
        },
        {
          "data": {
            "image/png": "[encoded data removed]",
            "text/plain": [
              "<Figure size 432x288 with 1 Axes>"
            ]
          },
          "metadata": {
            "needs_background": "light"
          },
          "output_type": "display_data"
        }
      ],
      "source": [
        "from matplotlib import pyplot as plt\n",
        "\n",
        "plt.plot(cnn_history.history[\"accuracy\"])\n",
        "plt.plot(cnn_history.history[\"val_accuracy\"])\n",
        "plt.title(\"accuracy\")\n",
        "plt.ylabel(\"accuracy\")\n",
        "plt.xlabel(\"epoch\")\n",
        "plt.legend([\"training set\", \"validation set\"])\n",
        "plt.show()\n",
        "\n",
        "plt.plot(cnn_history.history[\"loss\"])\n",
        "plt.plot(cnn_history.history[\"val_loss\"])\n",
        "plt.title(\"loss\")\n",
        "plt.ylabel(\"loss\")\n",
        "plt.xlabel(\"epoch\")\n",
        "plt.legend([\"training set\", \"validation set\"])\n",
        "plt.show()"
      ]
    },
    {
      "cell_type": "markdown",
      "metadata": {
        "id": "CcezV7yPU_yX"
      },
      "source": [
        "Evaluate the performance of the whole pipeline on the test set:\n",
        "1. Transforming the test URLs into N-gram index sequences by calling the transform_urls function. Except we are transforming all URLs at once, all other parameters of the transform_urls function remain the same.\n",
        "2. The N-gram index sequences are then fed into the neural network model, which computes the log probability of whether the URL is malicious or not.\n",
        "3. The output of the neural network model are then converted back into numerical labels with np.argmax.\n",
        "4. Finally, with both prediction and actual labels, we generate the confusion_matrix and classification_report for the result on the test set."
      ]
    },
    {
      "cell_type": "code",
      "execution_count": 31,
      "metadata": {
        "colab": {
          "base_uri": "https://localhost:8080/"
        },
        "id": "wzGQv7FzU_yX",
        "outputId": "e993d0ec-1f25-4c09-f713-5e1e4ce05f66"
      },
      "outputs": [
        {
          "name": "stdout",
          "output_type": "stream",
          "text": [
            "380/380 [==============================] - 1s 2ms/step\n",
            "[ Evaluation result for CNN model ]\n",
            "Testing confusion matrix:\n",
            " [[5463 1680]\n",
            " [ 352 4639]] \n",
            "\n",
            "Testing metrics:\n",
            "               precision    recall  f1-score   support\n",
            "\n",
            "           0       0.94      0.76      0.84      7143\n",
            "           1       0.73      0.93      0.82      4991\n",
            "\n",
            "    accuracy                           0.83     12134\n",
            "   macro avg       0.84      0.85      0.83     12134\n",
            "weighted avg       0.86      0.83      0.83     12134\n",
            "\n"
          ]
        }
      ],
      "source": [
        "from sklearn.metrics import confusion_matrix, classification_report\n",
        "\n",
        "transformed_urls_test = transform_urls(urls_test, MAX_URL_LEN, N, n2i_urls)\n",
        "\n",
        "# Predict results for test URLs\n",
        "preds_test = cnn_model.predict(transformed_urls_test)\n",
        "for preds in preds_test:\n",
        "    for i, pred in enumerate(preds):\n",
        "        preds[i] = 0 if pred < 0.5 else 1\n",
        "        \n",
        "print(f\"[ Evaluation result for CNN model ]\")\n",
        "# Confusion matrix\n",
        "print(\"Testing confusion matrix:\\n\", confusion_matrix(labels_test, preds_test), \"\\n\")\n",
        "# Classification report\n",
        "print(\"Testing metrics:\\n\", classification_report(labels_test, preds_test))"
      ]
    },
    {
      "cell_type": "markdown",
      "metadata": {
        "id": "EBcRYuTdU_yX"
      },
      "source": [
        "## Bidirectional LSTM model"
      ]
    },
    {
      "cell_type": "code",
      "execution_count": 32,
      "metadata": {
        "id": "i_TNaS2cU_yY"
      },
      "outputs": [],
      "source": [
        "from sklearn.decomposition import TruncatedSVD\n",
        "\n",
        "# Number of embedding dimensions\n",
        "EMBEDDING_DIMS_SVD = 100\n",
        "\n",
        "svd = TruncatedSVD(n_components=EMBEDDING_DIMS_SVD, n_iter=6, random_state=12345)\n",
        "embedding_svd = svd.fit_transform(cooccurrence_urls)"
      ]
    },
    {
      "cell_type": "code",
      "execution_count": 33,
      "metadata": {
        "id": "UmKYFi2tU_yY"
      },
      "outputs": [],
      "source": [
        "from tensorflow.keras import Sequential, layers\n",
        "from tensorflow.keras.initializers import Constant\n",
        "\n",
        "def build_lstm_model(n_ngram, embedding_dims, padded_len, n, embedding_weights, dropout_ratio=0., optimizer=\"adam\"):\n",
        "    model = Sequential()\n",
        "    # 1) Embedding layer: (*, 100) -Embedding-> (*, 100, 10)\n",
        "    model.add(layers.Embedding(n_ngram + 1, embedding_weights.shape[1], input_length=padded_len+n, embeddings_initializer=Constant(embedding_weights))) \n",
        "    # 2) LSTM\n",
        "    model.add(layers.Bidirectional(layers.LSTM(64)))\n",
        "    # 3) First fully-connected layer: (*, 160) -Dense+ReLU-> (*, 16)\n",
        "    #    - Dense layer: ReLU activation\n",
        "    model.add(layers.Dense(64, activation=\"relu\"))\n",
        "    # 4) Dropout layer: shape unchanged, dropout ratio set to `dropout_ratio`\n",
        "    model.add(layers.Dropout(dropout_ratio))\n",
        "    # 5) Last fully-connected layer: (*, 16) -Dense+Sigmoid-> (*, 1)\n",
        "    #    - Dense layer: Sigmoid activation\n",
        "    model.add(layers.Dense(1, activation=\"sigmoid\"))\n",
        "    # Compile the classification model\n",
        "    model.compile(loss=\"binary_crossentropy\", optimizer=optimizer, metrics=[\"accuracy\"])\n",
        "    \n",
        "    # Return the model\n",
        "    return model"
      ]
    },
    {
      "cell_type": "code",
      "execution_count": 34,
      "metadata": {
        "colab": {
          "base_uri": "https://localhost:8080/"
        },
        "id": "p3nF24OTU_yY",
        "outputId": "85d61d25-269c-4853-dad9-8ca90521c45a"
      },
      "outputs": [
        {
          "name": "stdout",
          "output_type": "stream",
          "text": [
            "Model: \"sequential_2\"\n",
            "_________________________________________________________________\n",
            " Layer (type)                Output Shape              Param #   \n",
            "=================================================================\n",
            " embedding_2 (Embedding)     (None, 890, 100)          5704200   \n",
            "                                                                 \n",
            " bidirectional (Bidirectiona  (None, 128)              84480     \n",
            " l)                                                              \n",
            "                                                                 \n",
            " dense_4 (Dense)             (None, 64)                8256      \n",
            "                                                                 \n",
            " dropout_2 (Dropout)         (None, 64)                0         \n",
            "                                                                 \n",
            " dense_5 (Dense)             (None, 1)                 65        \n",
            "                                                                 \n",
            "=================================================================\n",
            "Total params: 5,797,001\n",
            "Trainable params: 5,797,001\n",
            "Non-trainable params: 0\n",
            "_________________________________________________________________\n",
            "Epoch 1/10\n",
            "143/143 [==============================] - 58s 375ms/step - loss: 0.5921 - accuracy: 0.6627 - val_loss: 0.4534 - val_accuracy: 0.7204\n",
            "Epoch 2/10\n",
            "143/143 [==============================] - 28s 194ms/step - loss: 0.4313 - accuracy: 0.7502 - val_loss: 0.4047 - val_accuracy: 0.7459\n",
            "Epoch 3/10\n",
            "143/143 [==============================] - 28s 193ms/step - loss: 0.5367 - accuracy: 0.6744 - val_loss: 0.6734 - val_accuracy: 0.6063\n",
            "Epoch 4/10\n",
            "143/143 [==============================] - 28s 195ms/step - loss: 0.6785 - accuracy: 0.5896 - val_loss: 0.6728 - val_accuracy: 0.6063\n",
            "Epoch 5/10\n",
            "143/143 [==============================] - 28s 194ms/step - loss: 0.6775 - accuracy: 0.5907 - val_loss: 0.6723 - val_accuracy: 0.6063\n",
            "Epoch 6/10\n",
            "143/143 [==============================] - 28s 193ms/step - loss: 0.6778 - accuracy: 0.5907 - val_loss: 0.6720 - val_accuracy: 0.6063\n",
            "Epoch 7/10\n",
            "143/143 [==============================] - 28s 195ms/step - loss: 0.6774 - accuracy: 0.5907 - val_loss: 0.6707 - val_accuracy: 0.6063\n",
            "Epoch 8/10\n",
            "143/143 [==============================] - 28s 195ms/step - loss: 0.6773 - accuracy: 0.5907 - val_loss: 0.6717 - val_accuracy: 0.6063\n",
            "Epoch 9/10\n",
            "143/143 [==============================] - 28s 194ms/step - loss: 0.6773 - accuracy: 0.5907 - val_loss: 0.6704 - val_accuracy: 0.6063\n",
            "Epoch 10/10\n",
            "143/143 [==============================] - 28s 195ms/step - loss: 0.6776 - accuracy: 0.5907 - val_loss: 0.6724 - val_accuracy: 0.6063\n"
          ]
        }
      ],
      "source": [
        "# Batch size for training\n",
        "BATCH_SIZE = 256\n",
        "\n",
        "# Build a basic CNN model\n",
        "lstm_model = build_lstm_model(\n",
        "    n_ngram=len(n2i_urls),\n",
        "    embedding_dims=EMBEDDING_DIMS_SVD,\n",
        "    padded_len=MAX_URL_LEN,\n",
        "    n=N,\n",
        "    embedding_weights=embedding_svd,\n",
        "    dropout_ratio=0.25\n",
        ")\n",
        "\n",
        "lstm_model.summary()\n",
        "\n",
        "# Wrapper for training samples\n",
        "wrapper_train = SamplesWrapper(\n",
        "    urls_train,\n",
        "    labels_train,\n",
        "    BATCH_SIZE,\n",
        "    padded_len=MAX_URL_LEN,\n",
        "    n=N,\n",
        "    n2i_mapping=n2i_urls\n",
        ")\n",
        "# Wrapper for validation samples\n",
        "wrapper_vali = SamplesWrapper(\n",
        "    urls_vali,\n",
        "    labels_vali,\n",
        "    BATCH_SIZE,\n",
        "    padded_len=MAX_URL_LEN,\n",
        "    n=N,\n",
        "    n2i_mapping=n2i_urls\n",
        ")\n",
        "\n",
        "# Train the LSTM model for 10 epochs\n",
        "lstm_history = lstm_model.fit(wrapper_train, validation_data=wrapper_vali, epochs=10)"
      ]
    },
    {
      "cell_type": "code",
      "execution_count": 35,
      "metadata": {
        "colab": {
          "base_uri": "https://localhost:8080/",
          "height": 573
        },
        "id": "FxGXRw-OU_yY",
        "outputId": "3b9ad601-0f7e-4743-dd2a-6883e1c73766"
      },
      "outputs": [
        {
          "data": {
            "image/png": "[encoded data removed]",
            "text/plain": [
              "<Figure size 432x288 with 1 Axes>"
            ]
          },
          "metadata": {
            "needs_background": "light"
          },
          "output_type": "display_data"
        },
        {
          "data": {
            "image/png": "[encoded data removed]",
            "text/plain": [
              "<Figure size 432x288 with 1 Axes>"
            ]
          },
          "metadata": {
            "needs_background": "light"
          },
          "output_type": "display_data"
        }
      ],
      "source": [
        "from matplotlib import pyplot as plt\n",
        "\n",
        "plt.plot(lstm_history.history[\"accuracy\"])\n",
        "plt.plot(lstm_history.history[\"val_accuracy\"])\n",
        "plt.title(\"accuracy\")\n",
        "plt.ylabel(\"accuracy\")\n",
        "plt.xlabel(\"epoch\")\n",
        "plt.legend([\"training set\", \"validation set\"])\n",
        "plt.show()\n",
        "\n",
        "plt.plot(lstm_history.history[\"loss\"])\n",
        "plt.plot(lstm_history.history[\"val_loss\"])\n",
        "plt.title(\"loss\")\n",
        "plt.ylabel(\"loss\")\n",
        "plt.xlabel(\"epoch\")\n",
        "plt.legend([\"training set\", \"validation set\"])\n",
        "plt.show()"
      ]
    },
    {
      "cell_type": "code",
      "execution_count": 37,
      "metadata": {
        "colab": {
          "base_uri": "https://localhost:8080/"
        },
        "id": "b8qembvwU_yY",
        "outputId": "15878b0f-8b00-4e80-e318-166925f10f18"
      },
      "outputs": [
        {
          "name": "stdout",
          "output_type": "stream",
          "text": [
            "380/380 [==============================] - 8s 22ms/step\n",
            "[ Evaluation result for LSTM model ]\n",
            "Testing confusion matrix:\n",
            " [[7143    0]\n",
            " [4991    0]] \n",
            "\n",
            "Testing metrics:\n",
            "               precision    recall  f1-score   support\n",
            "\n",
            "           0       0.59      1.00      0.74      7143\n",
            "           1       0.00      0.00      0.00      4991\n",
            "\n",
            "    accuracy                           0.59     12134\n",
            "   macro avg       0.29      0.50      0.37     12134\n",
            "weighted avg       0.35      0.59      0.44     12134\n",
            "\n"
          ]
        },
        {
          "name": "stderr",
          "output_type": "stream",
          "text": [
            "/usr/local/lib/python3.9/dist-packages/sklearn/metrics/_classification.py:1344: UndefinedMetricWarning: Precision and F-score are ill-defined and being set to 0.0 in labels with no predicted samples. Use `zero_division` parameter to control this behavior.\n",
            "  _warn_prf(average, modifier, msg_start, len(result))\n",
            "/usr/local/lib/python3.9/dist-packages/sklearn/metrics/_classification.py:1344: UndefinedMetricWarning: Precision and F-score are ill-defined and being set to 0.0 in labels with no predicted samples. Use `zero_division` parameter to control this behavior.\n",
            "  _warn_prf(average, modifier, msg_start, len(result))\n",
            "/usr/local/lib/python3.9/dist-packages/sklearn/metrics/_classification.py:1344: UndefinedMetricWarning: Precision and F-score are ill-defined and being set to 0.0 in labels with no predicted samples. Use `zero_division` parameter to control this behavior.\n",
            "  _warn_prf(average, modifier, msg_start, len(result))\n"
          ]
        }
      ],
      "source": [
        "from sklearn.metrics import confusion_matrix, classification_report\n",
        "\n",
        "transformed_urls_test = transform_urls(urls_test, MAX_URL_LEN, N, n2i_urls)\n",
        "\n",
        "# Predict results for test URLs\n",
        "preds_test = lstm_model.predict(transformed_urls_test)\n",
        "for preds in preds_test:\n",
        "    for i, pred in enumerate(preds):\n",
        "        preds[i] = 0 if pred < 0.5 else 1\n",
        "        \n",
        "print(f\"[ Evaluation result for LSTM model ]\")\n",
        "# Confusion matrix\n",
        "print(\"Testing confusion matrix:\\n\", confusion_matrix(labels_test, preds_test), \"\\n\")\n",
        "# Classification report\n",
        "print(\"Testing metrics:\\n\", classification_report(labels_test, preds_test))"
      ]
    }
  ],
  "metadata": {
    "accelerator": "GPU",
    "colab": {
      "provenance": []
    },
    "gpuClass": "standard",
    "kernelspec": {
      "display_name": "Python 3 (ipykernel)",
      "language": "python",
      "name": "python3"
    },
    "language_info": {
      "codemirror_mode": {
        "name": "ipython",
        "version": 3
      },
      "file_extension": ".py",
      "mimetype": "text/x-python",
      "name": "python",
      "nbconvert_exporter": "python",
      "pygments_lexer": "ipython3",
      "version": "3.11.2"
    }
  },
  "nbformat": 4,
  "nbformat_minor": 0
}
