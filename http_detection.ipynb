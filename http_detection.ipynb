{
 "cells": [
  {
   "cell_type": "code",
   "execution_count": null,
   "metadata": {},
   "outputs": [
    {
     "name": "stdout",
     "output_type": "stream",
     "text": [
      "Index(['method', 'url', 'protocol', 'userAgent', 'pragma', 'cacheControl',\n",
      "       'accept', 'acceptEncoding', 'acceptCharset', 'acceptLanguage', 'host',\n",
      "       'connection', 'contentLength', 'contentType', 'cookie', 'payload',\n",
      "       'label'],\n",
      "      dtype='object')\n",
      "1\n",
      "1\n",
      "1\n",
      "1\n",
      "1\n",
      "1\n",
      "1\n",
      "1\n",
      "1\n",
      "==================================\n",
      "2\n",
      "13498\n",
      "2\n",
      "383\n",
      "2\n",
      "60668\n",
      "11977\n",
      "2\n",
      "['GETNaN' 'POSTapplication/x-www-form-urlencoded'\n",
      " 'GETapplication/x-www-form-urlencoded']\n"
     ]
    }
   ],
   "source": [
    "import numpy as np\n",
    "import pandas as pd\n",
    "\n",
    "normal_traffic_dataset = pd.read_csv(\"./normalTrafficTraining.csv\")\n",
    "anomalous_traffic_dataset = pd.read_csv(\"./anomalousTrafficTest.csv\")\n",
    "# Preview the dataset\n",
    "traffic_dataset = pd.concat([normal_traffic_dataset, anomalous_traffic_dataset])\n",
    "print(traffic_dataset)"
   ]
  }
 ],
 "metadata": {
  "kernelspec": {
   "display_name": "Python 3",
   "language": "python",
   "name": "python3"
  },
  "language_info": {
   "codemirror_mode": {
    "name": "ipython",
    "version": 3
   },
   "file_extension": ".py",
   "mimetype": "text/x-python",
   "name": "python",
   "nbconvert_exporter": "python",
   "pygments_lexer": "ipython3",
   "version": "3.10.0"
  },
  "orig_nbformat": 4
 },
 "nbformat": 4,
 "nbformat_minor": 2
}
