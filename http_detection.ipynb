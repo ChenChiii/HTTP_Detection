{
 "cells": [
  {
   "attachments": {},
   "cell_type": "markdown",
   "metadata": {},
   "source": [
    "# HTTP Detection\n",
    "HTTP Detection use machine learning to detect anomalous HTTP request.  \n",
    "Dataset: [CSIC 2010 HTTP Dataset](https://petescully.co.uk/research/csic-2010-http-dataset-in-csv-format-for-weka-analysis/)  \n",
    "In this code, we trained Three models, including random forest model, n-gram CNN model, and n-gram LSTM model."
   ]
  },
  {
   "cell_type": "code",
   "execution_count": 1,
   "metadata": {},
   "outputs": [],
   "source": [
    "import numpy as np\n",
    "import pandas as pd\n",
    "from sklearn.model_selection import train_test_split\n",
    "from utils import evaluate_model\n",
    "import os\n",
    "from sklearn.ensemble import RandomForestClassifier\n",
    "\n",
    "# Number of CPUs for ensemble learning methods\n",
    "N_ENSEMBLE_CPUS = max(os.cpu_count()//2, 1)"
   ]
  },
  {
   "attachments": {},
   "cell_type": "markdown",
   "metadata": {},
   "source": [
    "## Analysis HTTP Request Attributes\n",
    "We will first combine normal data and anomalous data.  \n",
    "Then we will analyze the value in HTTP requests.  \n",
    "We will find out those values that are same in every request, and these data will not be used to train our model.  "
   ]
  },
  {
   "cell_type": "code",
   "execution_count": 2,
   "metadata": {},
   "outputs": [],
   "source": [
    "normal_traffic_dataset = pd.read_csv(\"dataset/normalTrafficTraining.csv\")\n",
    "anomalous_traffic_dataset = pd.read_csv(\"dataset/anomalousTrafficTest.csv\")\n",
    "# Preview the dataset\n",
    "traffic_dataset = pd.concat([normal_traffic_dataset, anomalous_traffic_dataset])"
   ]
  },
  {
   "cell_type": "code",
   "execution_count": 3,
   "metadata": {},
   "outputs": [
    {
     "name": "stdout",
     "output_type": "stream",
     "text": [
      "same value columns:  ['protocol', 'userAgent', 'pragma', 'cacheControl', 'accept', 'acceptEncoding', 'acceptCharset', 'acceptLanguage', 'connection']\n"
     ]
    }
   ],
   "source": [
    "# The attribute that all have same value in every columns.\n",
    "same_value_columns = []\n",
    "for name, item in traffic_dataset.items():\n",
    "    if len(item.unique()) == 1:\n",
    "        same_value_columns.append(name)\n",
    "print(\"same value columns: \", same_value_columns)"
   ]
  },
  {
   "cell_type": "code",
   "execution_count": 4,
   "metadata": {},
   "outputs": [
    {
     "name": "stdout",
     "output_type": "stream",
     "text": [
      "value in binary column\n",
      "['GET' 'POST']\n",
      "['localhost:8080' 'localhost:9090']\n",
      "[nan 'application/x-www-form-urlencoded']\n",
      "['norm' 'anom']\n",
      "binary columns:  ['method', 'host', 'contentType', 'label']\n",
      "multiple columns:  ['url', 'contentLength', 'cookie', 'payload']\n"
     ]
    }
   ],
   "source": [
    "# The attribute that all have binary value.\n",
    "binary_columns = []\n",
    "print(\"value in binary column\")\n",
    "for name, item in traffic_dataset.items():\n",
    "    if len(item.unique()) == 2:\n",
    "        print(item.unique())\n",
    "        binary_columns.append(name)\n",
    "print(\"binary columns: \", binary_columns)\n",
    "\n",
    "# The attribute that have multiple value.\n",
    "multiple_columns = []\n",
    "for name, item in traffic_dataset.items():\n",
    "    if len(item.unique()) > 2:\n",
    "        multiple_columns.append(name)\n",
    "print(\"multiple columns: \", multiple_columns)"
   ]
  },
  {
   "attachments": {},
   "cell_type": "markdown",
   "metadata": {},
   "source": [
    "## Random Forest Model\n",
    "We use three datasets to train the model\n",
    "- GET & POST\n",
    "- GET only\n",
    "- POST only\n",
    "\n",
    "For each of the dataset, we used them to train three models.  \n",
    "The number of decision trees in three models are 5, 40, and 100."
   ]
  },
  {
   "cell_type": "code",
   "execution_count": 5,
   "metadata": {},
   "outputs": [
    {
     "name": "stdout",
     "output_type": "stream",
     "text": [
      "[ Evaluation result for Random forest classifier using GET & POST (5 DTs) ]\n",
      "Classification report:\n",
      "              precision    recall  f1-score   support\n",
      "\n",
      "           0       0.67      0.94      0.78     14373\n",
      "           1       0.80      0.33      0.46      9895\n",
      "\n",
      "    accuracy                           0.69     24268\n",
      "   macro avg       0.74      0.64      0.62     24268\n",
      "weighted avg       0.72      0.69      0.65     24268\n",
      "\n",
      "Confusion matrix:\n",
      "[[13579   794]\n",
      " [ 6658  3237]] \n",
      "\n",
      "[ Evaluation result for Random forest classifier using GET & POST (40 DTs) ]\n",
      "Classification report:\n",
      "              precision    recall  f1-score   support\n",
      "\n",
      "           0       0.67      0.94      0.78     14373\n",
      "           1       0.80      0.33      0.46      9895\n",
      "\n",
      "    accuracy                           0.69     24268\n",
      "   macro avg       0.74      0.64      0.62     24268\n",
      "weighted avg       0.72      0.69      0.65     24268\n",
      "\n",
      "Confusion matrix:\n",
      "[[13573   800]\n",
      " [ 6657  3238]] \n",
      "\n",
      "[ Evaluation result for Random forest classifier using GET & POST (100 DTs) ]\n",
      "Classification report:\n",
      "              precision    recall  f1-score   support\n",
      "\n",
      "           0       0.67      0.95      0.79     14373\n",
      "           1       0.81      0.32      0.46      9895\n",
      "\n",
      "    accuracy                           0.69     24268\n",
      "   macro avg       0.74      0.64      0.62     24268\n",
      "weighted avg       0.73      0.69      0.65     24268\n",
      "\n",
      "Confusion matrix:\n",
      "[[13606   767]\n",
      " [ 6685  3210]] \n",
      "\n"
     ]
    }
   ],
   "source": [
    "feat_get_post = traffic_dataset[['method', 'host', 'contentType', 'contentLength', 'label']]\n",
    "feat_get_post = feat_get_post.replace({\"method\" : {\"GET\" : 0, \"POST\" : 1}})\n",
    "feat_get_post = feat_get_post.replace({\"host\" : {\"localhost:8080\" : 0, \"localhost:9090\" : 1}})\n",
    "feat_get_post = feat_get_post.replace({\"contentType\" : {\"application/x-www-form-urlencoded\" : 1}})\n",
    "feat_get_post = feat_get_post.replace({\"label\" : {\"norm\" : 0, \"anom\" : 1}})\n",
    "feat_get_post = feat_get_post.fillna(0)\n",
    "\n",
    "feat_all = feat_get_post.drop([\"label\"], axis=1).values\n",
    "y_all = feat_get_post[\"label\"]\n",
    "feat_train, feat_test, y_train, y_test = train_test_split(\n",
    "    feat_all, y_all, test_size=0.4, random_state=0\n",
    ")\n",
    "\n",
    "rf_5_model = RandomForestClassifier(n_estimators=5, n_jobs=N_ENSEMBLE_CPUS)\n",
    "rf_5_model.fit(feat_train, y_train)\n",
    "\n",
    "rf_40_model = RandomForestClassifier(n_estimators=40, n_jobs=N_ENSEMBLE_CPUS)\n",
    "rf_40_model.fit(feat_train, y_train)\n",
    "\n",
    "rf_100_model = RandomForestClassifier(n_jobs=N_ENSEMBLE_CPUS)\n",
    "rf_100_model.fit(feat_train, y_train)\n",
    "\n",
    "evaluate_model(rf_5_model, \"Random forest classifier using GET & POST (5 DTs)\", feat_test, y_test)\n",
    "evaluate_model(rf_40_model, \"Random forest classifier using GET & POST (40 DTs)\", feat_test, y_test)\n",
    "evaluate_model(rf_100_model, \"Random forest classifier using GET & POST (100 DTs)\", feat_test, y_test)"
   ]
  },
  {
   "cell_type": "code",
   "execution_count": 6,
   "metadata": {},
   "outputs": [
    {
     "name": "stdout",
     "output_type": "stream",
     "text": [
      "[ Evaluation result for Random forest classifier using GET (5 DTs) ]\n",
      "Classification report:\n",
      "              precision    recall  f1-score   support\n",
      "\n",
      "           0       0.66      1.00      0.79     11227\n",
      "           1       1.00      0.02      0.03      6009\n",
      "\n",
      "    accuracy                           0.66     17236\n",
      "   macro avg       0.83      0.51      0.41     17236\n",
      "weighted avg       0.78      0.66      0.53     17236\n",
      "\n",
      "Confusion matrix:\n",
      "[[11227     0]\n",
      " [ 5907   102]] \n",
      "\n",
      "[ Evaluation result for Random forest classifier using GET (40 DTs) ]\n",
      "Classification report:\n",
      "              precision    recall  f1-score   support\n",
      "\n",
      "           0       0.66      1.00      0.79     11227\n",
      "           1       1.00      0.02      0.03      6009\n",
      "\n",
      "    accuracy                           0.66     17236\n",
      "   macro avg       0.83      0.51      0.41     17236\n",
      "weighted avg       0.78      0.66      0.53     17236\n",
      "\n",
      "Confusion matrix:\n",
      "[[11227     0]\n",
      " [ 5907   102]] \n",
      "\n",
      "[ Evaluation result for Random forest classifier using GET (100 DTs) ]\n",
      "Classification report:\n",
      "              precision    recall  f1-score   support\n",
      "\n",
      "           0       0.66      1.00      0.79     11227\n",
      "           1       1.00      0.02      0.03      6009\n",
      "\n",
      "    accuracy                           0.66     17236\n",
      "   macro avg       0.83      0.51      0.41     17236\n",
      "weighted avg       0.78      0.66      0.53     17236\n",
      "\n",
      "Confusion matrix:\n",
      "[[11227     0]\n",
      " [ 5907   102]] \n",
      "\n"
     ]
    }
   ],
   "source": [
    "feat_get = traffic_dataset[['method', 'host', 'contentType', 'contentLength', 'label']]\n",
    "feat_get = feat_get[feat_get[\"method\"] == \"GET\"]\n",
    "feat_get = feat_get.replace({\"method\" : {\"GET\" : 0, \"POST\" : 1}})\n",
    "feat_get = feat_get.replace({\"host\" : {\"localhost:8080\" : 0, \"localhost:9090\" : 1}})\n",
    "feat_get = feat_get.replace({\"contentType\" : {\"application/x-www-form-urlencoded\" : 1}})\n",
    "feat_get = feat_get.replace({\"label\" : {\"norm\" : 0, \"anom\" : 1}})\n",
    "feat_get = feat_get.fillna(0)\n",
    "\n",
    "feat_all = feat_get.drop([\"label\"], axis=1).values\n",
    "y_all = feat_get[\"label\"]\n",
    "feat_train, feat_test, y_train, y_test = train_test_split(\n",
    "    feat_all, y_all, test_size=0.4, random_state=0\n",
    ")\n",
    "\n",
    "rf_5_model = RandomForestClassifier(n_estimators=5, n_jobs=N_ENSEMBLE_CPUS)\n",
    "rf_5_model.fit(feat_train, y_train)\n",
    "\n",
    "rf_40_model = RandomForestClassifier(n_estimators=40, n_jobs=N_ENSEMBLE_CPUS)\n",
    "rf_40_model.fit(feat_train, y_train)\n",
    "\n",
    "rf_100_model = RandomForestClassifier(n_jobs=N_ENSEMBLE_CPUS)\n",
    "rf_100_model.fit(feat_train, y_train)\n",
    "\n",
    "evaluate_model(rf_5_model, \"Random forest classifier using GET (5 DTs)\", feat_test, y_test)\n",
    "evaluate_model(rf_40_model, \"Random forest classifier using GET (40 DTs)\", feat_test, y_test)\n",
    "evaluate_model(rf_100_model, \"Random forest classifier using GET (100 DTs)\", feat_test, y_test)"
   ]
  },
  {
   "cell_type": "code",
   "execution_count": 7,
   "metadata": {},
   "outputs": [
    {
     "name": "stdout",
     "output_type": "stream",
     "text": [
      "[ Evaluation result for Random forest classifier (5 DTs) ]\n",
      "Classification report:\n",
      "              precision    recall  f1-score   support\n",
      "\n",
      "           0       0.76      0.77      0.77      3186\n",
      "           1       0.81      0.80      0.80      3846\n",
      "\n",
      "    accuracy                           0.79      7032\n",
      "   macro avg       0.79      0.79      0.79      7032\n",
      "weighted avg       0.79      0.79      0.79      7032\n",
      "\n",
      "Confusion matrix:\n",
      "[[2461  725]\n",
      " [ 772 3074]] \n",
      "\n",
      "[ Evaluation result for Random forest classifier (40 DTs) ]\n",
      "Classification report:\n",
      "              precision    recall  f1-score   support\n",
      "\n",
      "           0       0.78      0.75      0.76      3186\n",
      "           1       0.80      0.83      0.81      3846\n",
      "\n",
      "    accuracy                           0.79      7032\n",
      "   macro avg       0.79      0.79      0.79      7032\n",
      "weighted avg       0.79      0.79      0.79      7032\n",
      "\n",
      "Confusion matrix:\n",
      "[[2386  800]\n",
      " [ 671 3175]] \n",
      "\n",
      "[ Evaluation result for Random forest classifier (100 DTs) ]\n",
      "Classification report:\n",
      "              precision    recall  f1-score   support\n",
      "\n",
      "           0       0.77      0.76      0.77      3186\n",
      "           1       0.80      0.82      0.81      3846\n",
      "\n",
      "    accuracy                           0.79      7032\n",
      "   macro avg       0.79      0.79      0.79      7032\n",
      "weighted avg       0.79      0.79      0.79      7032\n",
      "\n",
      "Confusion matrix:\n",
      "[[2416  770]\n",
      " [ 708 3138]] \n",
      "\n"
     ]
    }
   ],
   "source": [
    "feat_post = traffic_dataset[['method', 'host', 'contentType', 'contentLength', 'label']]\n",
    "feat_post = feat_post[feat_post[\"method\"] == \"POST\"]\n",
    "feat_post = feat_post.replace({\"method\" : {\"GET\" : 0, \"POST\" : 1}})\n",
    "feat_post = feat_post.replace({\"host\" : {\"localhost:8080\" : 0, \"localhost:9090\" : 1}})\n",
    "feat_post = feat_post.replace({\"contentType\" : {\"application/x-www-form-urlencoded\" : 1}})\n",
    "feat_post = feat_post.replace({\"label\" : {\"norm\" : 0, \"anom\" : 1}})\n",
    "feat_post = feat_post.fillna(0)\n",
    "\n",
    "feat_all = feat_post.drop([\"label\"], axis=1).values\n",
    "y_all = feat_post[\"label\"]\n",
    "feat_train, feat_test, y_train, y_test = train_test_split(\n",
    "    feat_all, y_all, test_size=0.4, random_state=0\n",
    ")\n",
    "rf_5_model = RandomForestClassifier(n_estimators=5, n_jobs=N_ENSEMBLE_CPUS)\n",
    "rf_5_model.fit(feat_train, y_train)\n",
    "\n",
    "rf_40_model = RandomForestClassifier(n_estimators=40, n_jobs=N_ENSEMBLE_CPUS)\n",
    "rf_40_model.fit(feat_train, y_train)\n",
    "\n",
    "rf_100_model = RandomForestClassifier(n_jobs=N_ENSEMBLE_CPUS)\n",
    "rf_100_model.fit(feat_train, y_train)\n",
    "\n",
    "evaluate_model(rf_5_model, \"Random forest classifier (5 DTs)\", feat_test, y_test)\n",
    "evaluate_model(rf_40_model, \"Random forest classifier (40 DTs)\", feat_test, y_test)\n",
    "evaluate_model(rf_100_model, \"Random forest classifier (100 DTs)\", feat_test, y_test)"
   ]
  }
 ],
 "metadata": {
  "kernelspec": {
   "display_name": "Python 3 (ipykernel)",
   "language": "python",
   "name": "python3"
  },
  "language_info": {
   "codemirror_mode": {
    "name": "ipython",
    "version": 3
   },
   "file_extension": ".py",
   "mimetype": "text/x-python",
   "name": "python",
   "nbconvert_exporter": "python",
   "pygments_lexer": "ipython3",
   "version": "3.10.0"
  }
 },
 "nbformat": 4,
 "nbformat_minor": 2
}
